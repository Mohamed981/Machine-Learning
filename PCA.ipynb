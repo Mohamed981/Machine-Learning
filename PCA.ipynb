{
  "nbformat": 4,
  "nbformat_minor": 0,
  "metadata": {
    "colab": {
      "name": "Untitled9.ipynb",
      "provenance": []
    },
    "kernelspec": {
      "name": "python3",
      "display_name": "Python 3"
    },
    "language_info": {
      "name": "python"
    }
  },
  "cells": [
    {
      "cell_type": "code",
      "metadata": {
        "id": "TqwWU3cEdCda"
      },
      "source": [
        "A=np.array([[6,-4],[-3,5],[-2,6],[7,3]])\n",
        "\n",
        "mean=np.mean(A, axis=0)\n",
        "print(\"a)mean:\",mean)\n",
        "Centered=A-mean\n",
        "\n",
        "Cov=np.cov(Centered,rowvar=False)\n",
        "print(\"Covariance matrix:\",Cov)\n",
        "values,vectors=np.linalg.eigh(Cov)\n",
        "print(\"eigen values:\",values)\n",
        "print(\"eigen vectors:\",vectors)\n",
        "\n",
        "#B\n",
        "import math\n",
        "lamda=162\n",
        "eigen_vector=np.array([[-1/math.sqrt(2),1/math.sqrt(2)]])\n",
        "\n",
        "PCA=lamda*eigen_vector\n",
        "print(\"b)First Principal component:\",PCA)\n",
        "plt.scatter(A[:,0],A[:,1],s=20,c='b',label='data')\n",
        "plt.scatter(PCA[:,0],PCA[:,1],s=20,c='r',label='first principal component')\n",
        "plt.plot\n",
        "plt.grid()\n",
        "plt.legend()"
      ],
      "execution_count": 3,
      "outputs": []
    },
    {
      "cell_type": "code",
      "metadata": {
        "id": "elkJqRmVO2dV"
      },
      "source": [
        "A=np.array([[0.5,4.5,2.5],[2.2,1.5,0.1],[3.9,3.5,1.1],[2.1,1.9,4.9],[0.5,3.2,1.2]])\n",
        "#A\n",
        "mean=np.mean(A, axis=0)\n",
        "\n",
        "Centered=A-mean\n",
        "\n",
        "Cov=np.cov(Centered,rowvar=False)\n",
        "print(\"a)Covariance matrix:\",Cov)\n",
        "values,vectors=np.linalg.eigh(Cov)\n",
        "\n",
        "\n",
        "#i\n",
        "print(\"b)i)eigen values:\",values)"
      ],
      "execution_count": 4,
      "outputs": []
    }
  ]
}